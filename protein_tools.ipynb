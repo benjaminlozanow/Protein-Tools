{
 "cells": [
  {
   "cell_type": "code",
   "execution_count": 2,
   "metadata": {},
   "outputs": [],
   "source": [
    "import pandas as pd\n",
    "import sys\n",
    "import numpy as np\n",
    "import matplotlib.pyplot as plt\n",
    "\n",
    "# The protein sequence has to be passed as an argument while executing protein_tools.py\n",
    "#sequence = sys.argv[1]\n",
    "\n",
    "# Import data frame containing the amino acids' masses\n",
    "mass_df = pd.read_csv(\"masses_df.csv\")"
   ]
  },
  {
   "cell_type": "code",
   "execution_count": 3,
   "metadata": {},
   "outputs": [],
   "source": [
    "# bargraph showing the number of each aa\n",
    "# classify the aa based on the chemical structure\n",
    "# maximum protonation in positive and negative ionization"
   ]
  },
  {
   "cell_type": "code",
   "execution_count": 4,
   "metadata": {},
   "outputs": [],
   "source": [
    "seq = 'AAACCCVYY'"
   ]
  },
  {
   "cell_type": "code",
   "execution_count": 5,
   "metadata": {},
   "outputs": [],
   "source": [
    "mass_dict = mass_df.iloc[:, 2:].set_index('1-letter code').to_dict('index')"
   ]
  },
  {
   "cell_type": "code",
   "execution_count": 6,
   "metadata": {},
   "outputs": [],
   "source": [
    "def mass_calculator(seq, method = 'average'):\n",
    "    \n",
    "    # Set mass to zero\n",
    "    mass = 0\n",
    "    \n",
    "    # Evaluates the mass method\n",
    "    if method == 'average':\n",
    "        #Iterate through the imput sequence\n",
    "        for aa in seq:\n",
    "            # Check if the aa is in the dictionary\n",
    "            if aa in mass_dict:\n",
    "                # Add the mass of the aa to the mass variable\n",
    "                mass += mass_dict[aa]['Average Mass']\n",
    "            else:\n",
    "                print('There is an unrecognized amino acid (' + str(aa) + ') in the sequence')\n",
    "            \n",
    "    elif method == 'monoisotopic':\n",
    "        for aa in seq:\n",
    "            if aa in mass_dict:\n",
    "                mass += mass_dict[aa]['Monoisotopic Mass']\n",
    "            else:\n",
    "                print('There is an unrecognized amino acid (' + str(aa) +') in the sequence')\n",
    "            \n",
    "    else:\n",
    "        print('Wrong method!')\n",
    "        \n",
    "    return float(mass)"
   ]
  },
  {
   "cell_type": "code",
   "execution_count": 7,
   "metadata": {},
   "outputs": [],
   "source": [
    "def aa_distribution(seq):\n",
    "    amino = []\n",
    "    counts = []\n",
    "    # Iterate through dict and append and count the number of aa in the sequence\n",
    "    for aa in mass_dict:\n",
    "        amino.append(aa)\n",
    "        counts.append(seq.count(aa))\n",
    "    \n",
    "    plt.bar(x = amino, height = counts)\n",
    "    plt.ylabel('Count')\n",
    "    plt.show\n",
    "              "
   ]
  },
  {
   "cell_type": "code",
   "execution_count": 8,
   "metadata": {},
   "outputs": [
    {
     "data": {
      "image/png": "[encoded data removed]",
      "text/plain": [
       "<Figure size 432x288 with 1 Axes>"
      ]
     },
     "metadata": {
      "needs_background": "light"
     },
     "output_type": "display_data"
    }
   ],
   "source": [
    "aa_distribution(seq)"
   ]
  },
  {
   "cell_type": "code",
   "execution_count": 32,
   "metadata": {},
   "outputs": [],
   "source": [
    "def charge(seq, exclude = None, polarity = None):\n",
    "    pos = 0\n",
    "    neg = 0\n",
    "    for aa in seq:\n",
    "        if aa == 'R' or aa == 'K' or aa == 'H':\n",
    "            pos += 1\n",
    "            if aa == exclude:\n",
    "                pos -= 1\n",
    "            \n",
    "        elif aa == 'D' or aa == 'E':\n",
    "            neg += 1\n",
    "            if aa == exclude:\n",
    "                neg -= 1\n",
    "    \n",
    "    if polarity == 'pos':\n",
    "        return pos\n",
    "    elif polarity == 'neg':\n",
    "        return -neg\n",
    "    elif polarity is None:\n",
    "        return pos, -neg"
   ]
  },
  {
   "cell_type": "code",
   "execution_count": 33,
   "metadata": {},
   "outputs": [],
   "source": [
    "seq = 'RKHDE'"
   ]
  },
  {
   "cell_type": "code",
   "execution_count": 34,
   "metadata": {},
   "outputs": [
    {
     "data": {
      "text/plain": [
       "(2, -2)"
      ]
     },
     "execution_count": 34,
     "metadata": {},
     "output_type": "execute_result"
    }
   ],
   "source": [
    "charge(seq, exclude = 'H')"
   ]
  },
  {
   "cell_type": "code",
   "execution_count": null,
   "metadata": {},
   "outputs": [],
   "source": []
  }
 ],
 "metadata": {
  "kernelspec": {
   "display_name": "Python 3",
   "language": "python",
   "name": "python3"
  },
  "language_info": {
   "codemirror_mode": {
    "name": "ipython",
    "version": 3
   },
   "file_extension": ".py",
   "mimetype": "text/x-python",
   "name": "python",
   "nbconvert_exporter": "python",
   "pygments_lexer": "ipython3",
   "version": "3.8.5"
  }
 },
 "nbformat": 4,
 "nbformat_minor": 4
}
