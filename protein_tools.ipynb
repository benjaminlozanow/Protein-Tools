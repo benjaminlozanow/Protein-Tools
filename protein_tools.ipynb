{
 "cells": [
  {
   "cell_type": "code",
   "execution_count": 53,
   "metadata": {},
   "outputs": [],
   "source": [
    "import pandas as pd\n",
    "import sys\n",
    "import numpy as np\n",
    "\n",
    "# The protein sequence has to be passed as an argument while executing protein_tools.py\n",
    "#sequence = sys.argv[1]\n",
    "\n",
    "# Import data frame containing the amino acids' masses\n",
    "mass_df = pd.read_csv(\"masses_df.csv\")"
   ]
  },
  {
   "cell_type": "code",
   "execution_count": 72,
   "metadata": {},
   "outputs": [],
   "source": [
    "one_code = mass_df['1-letter code'].to_numpy()\n",
    "a_mass = mass_df['Average Mass'].to_numpy()\n",
    "m_mass = mass_df['Monoisotopic Mass'].to_numpy()"
   ]
  },
  {
   "cell_type": "code",
   "execution_count": 65,
   "metadata": {},
   "outputs": [],
   "source": [
    "sequence = 'AbN'"
   ]
  },
  {
   "cell_type": "code",
   "execution_count": 70,
   "metadata": {},
   "outputs": [],
   "source": [
    "def average_mass(sequence):\n",
    "    mass = 0\n",
    "    for aa in sequence:\n",
    "        if aa in one_code:\n",
    "            index = np.where(one_code == aa)\n",
    "            mass += a_mass[index]\n",
    "        else:\n",
    "            print('Hey! ' + aa +' is not a valid amino acid.')\n",
    "    return float(mass)"
   ]
  },
  {
   "cell_type": "code",
   "execution_count": null,
   "metadata": {},
   "outputs": [],
   "source": [
    "def mono_mass(sequence):\n",
    "    mass = 0\n",
    "    for aa in sequence:\n",
    "        if aa in one_code:\n",
    "            index = np.where(one_code == aa)\n",
    "            mass += m_mass[index]\n",
    "        else:\n",
    "            print('Hey! ' + aa +' is not a valid amino acid.')\n",
    "    return float(mass)"
   ]
  },
  {
   "cell_type": "code",
   "execution_count": 71,
   "metadata": {},
   "outputs": [
    {
     "name": "stdout",
     "output_type": "stream",
     "text": [
      "Hey! b is not a valid amino acid.\n"
     ]
    },
    {
     "data": {
      "text/plain": [
       "185.18"
      ]
     },
     "execution_count": 71,
     "metadata": {},
     "output_type": "execute_result"
    }
   ],
   "source": [
    "average_mass(sequence)"
   ]
  },
  {
   "cell_type": "code",
   "execution_count": null,
   "metadata": {},
   "outputs": [],
   "source": [
    "# bargraph showing the number of each aa\n",
    "# classify the aa based on the chemical structure\n",
    "# maximum protonation in positive and negative ionization"
   ]
  }
 ],
 "metadata": {
  "kernelspec": {
   "display_name": "Python 3",
   "language": "python",
   "name": "python3"
  },
  "language_info": {
   "codemirror_mode": {
    "name": "ipython",
    "version": 3
   },
   "file_extension": ".py",
   "mimetype": "text/x-python",
   "name": "python",
   "nbconvert_exporter": "python",
   "pygments_lexer": "ipython3",
   "version": "3.8.5"
  }
 },
 "nbformat": 4,
 "nbformat_minor": 4
}
